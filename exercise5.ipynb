{
  "cells": [
    {
      "cell_type": "markdown",
      "metadata": {
        "id": "view-in-github",
        "colab_type": "text"
      },
      "source": [
        "<a href=\"https://colab.research.google.com/github/RheyMartt/CCALCOMP_EXERCISES_COM223/blob/main/exercise5.ipynb\" target=\"_parent\"><img src=\"https://colab.research.google.com/assets/colab-badge.svg\" alt=\"Open In Colab\"/></a>"
      ]
    },
    {
      "cell_type": "markdown",
      "metadata": {
        "id": "-8bYOEC8HOQ4"
      },
      "source": [
        "# Exercise 5\n",
        "\n",
        "Please follow the instructions in each number."
      ]
    },
    {
      "cell_type": "markdown",
      "metadata": {
        "id": "FEPXLUAPHOQ6"
      },
      "source": [
        "### Maximum Subarray\n",
        "Given an array of integers nums, find the subarray with the largest sum and return the sum.\n",
        "\n",
        "A subarray is a contiguous non-empty sequence of elements within an array.\n",
        "\n",
        "\n",
        "\n",
        "Example 1:\n",
        "\n",
        "Input: nums = [2,-3,4,-2,2,1,-1,4]\n",
        "\n",
        "Output: 8\n",
        "\n",
        "Explanation: The subarray [4,-2,2,1,-1,4] has the largest sum 8."
      ]
    },
    {
      "cell_type": "markdown",
      "metadata": {
        "id": "D4a-4yS4HOQ7"
      },
      "source": [
        "## Tasks"
      ]
    },
    {
      "cell_type": "markdown",
      "metadata": {
        "id": "v8mlE6kYHOQ7"
      },
      "source": [
        "1. Put your student number in a list and manually compute the maximum subarray in your student number (`10 points`)"
      ]
    },
    {
      "cell_type": "markdown",
      "source": [
        "Subarrays:\n",
        "\n",
        "[2], [2, 0], [2, 0, 2], [2, 0, 2, 2], [2, 0, 2, 2, 1], [2, 0, 2, 2, 1, 0], [2, 0, 2, 2, 1, 0, 6], [2, 0, 2, 2, 1, 0, 6, 8], [2, 0, 2, 2, 1, 0, 6, 8, 9], [2, 0, 2, 2, 1, 0, 6, 8, 9, 1]\n",
        "\n",
        "[0], [0, 2], [0, 2, 2], [0, 2, 2, 1], [0, 2, 2, 1, 0], [0, 2, 2, 1, 0, 6], [0, 2, 2, 1, 0, 6, 8], [0, 2, 2, 1, 0, 6, 8, 9], [0, 2, 2, 1, 0, 6, 8, 9, 1]"
      ],
      "metadata": {
        "id": "p6lpcZ31V6C0"
      }
    },
    {
      "cell_type": "markdown",
      "source": [
        "Calculate the sum for each subarray and find the maximum sum:\n",
        "\n",
        "[2] -> 2\n",
        "\n",
        "[2, 0] -> 2\n",
        "\n",
        "[2, 0, 2] -> 4\n",
        "\n",
        "[2, 0, 2, 2] -> 6\n",
        "\n",
        "[2, 0, 2, 2, 1] -> 7\n",
        "\n",
        "[2, 0, 2, 2, 1, 0] -> 7\n",
        "\n",
        "[2, 0, 2, 2, 1, 0, 6] -> 13\n",
        "\n",
        "[2, 0, 2, 2, 1, 0, 6, 8] -> 21\n",
        "\n",
        "[2, 0, 2, 2, 1, 0, 6, 8, 9] -> 30\n",
        "\n",
        "[2, 0, 2, 2, 1, 0, 6, 8, 9, 1] -> 31"
      ],
      "metadata": {
        "id": "op7VcXo-WFiN"
      }
    },
    {
      "cell_type": "markdown",
      "metadata": {
        "id": "nchQgI2KHOQ8"
      },
      "source": [
        "2. Write a program using a brute-force approach to get the maximum-subarray of your student number (`40 points`)"
      ]
    },
    {
      "cell_type": "code",
      "execution_count": 1,
      "metadata": {
        "vscode": {
          "languageId": "plaintext"
        },
        "id": "b9P6oe11HOQ9",
        "colab": {
          "base_uri": "https://localhost:8080/"
        },
        "outputId": "68b84576-1f4d-4126-b884-ad9b0de2c5b8"
      },
      "outputs": [
        {
          "output_type": "stream",
          "name": "stdout",
          "text": [
            "Maximum subarray sum (brute-force): 31\n"
          ]
        }
      ],
      "source": [
        "def max_subarray_bruteforce(nums):\n",
        "    max_sum = float('-inf')\n",
        "    n = len(nums)\n",
        "    for i in range(n):\n",
        "        for j in range(i, n):\n",
        "            current_sum = sum(nums[i:j+1])\n",
        "            if current_sum > max_sum:\n",
        "                max_sum = current_sum\n",
        "    return max_sum\n",
        "\n",
        "student_number = [2, 0, 2, 2, 1, 0, 6, 8, 9, 1]\n",
        "print(\"Maximum subarray sum (brute-force):\", max_subarray_bruteforce(student_number))"
      ]
    },
    {
      "cell_type": "markdown",
      "metadata": {
        "id": "NkqAxIx_HOQ9"
      },
      "source": [
        "3. Write a program using a dynamic programming to get the maximum-subarray of your student number (`50 points`)"
      ]
    },
    {
      "cell_type": "code",
      "execution_count": 2,
      "metadata": {
        "vscode": {
          "languageId": "plaintext"
        },
        "id": "BFBp2ARLHOQ9",
        "colab": {
          "base_uri": "https://localhost:8080/"
        },
        "outputId": "1477c55c-457d-4f0c-b43a-639fb6ab2cc4"
      },
      "outputs": [
        {
          "output_type": "stream",
          "name": "stdout",
          "text": [
            "Maximum subarray sum (dynamic programming): 31\n"
          ]
        }
      ],
      "source": [
        "def max_subarray_dynamic(nums):\n",
        "    max_current = max_global = nums[0]\n",
        "    for i in range(1, len(nums)):\n",
        "        max_current = max(nums[i], max_current + nums[i])\n",
        "        if max_current > max_global:\n",
        "            max_global = max_current\n",
        "    return max_global\n",
        "\n",
        "student_number = [2, 0, 2, 2, 1, 0, 6, 8, 9, 1]\n",
        "print(\"Maximum subarray sum (dynamic programming):\", max_subarray_dynamic(student_number))"
      ]
    }
  ],
  "metadata": {
    "colab": {
      "provenance": [],
      "include_colab_link": true
    },
    "kernelspec": {
      "display_name": "base",
      "language": "python",
      "name": "python3"
    },
    "language_info": {
      "codemirror_mode": {
        "name": "ipython",
        "version": 3
      },
      "file_extension": ".py",
      "mimetype": "text/x-python",
      "name": "python",
      "nbconvert_exporter": "python",
      "pygments_lexer": "ipython3",
      "version": "3.9.6"
    }
  },
  "nbformat": 4,
  "nbformat_minor": 0
}